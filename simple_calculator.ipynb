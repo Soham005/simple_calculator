{
 "cells": [
  {
   "cell_type": "markdown",
   "id": "a5c68471",
   "metadata": {},
   "source": [
    "# 🧮 Simple Calculator in Python"
   ]
  },
  {
   "cell_type": "markdown",
   "id": "8da43237",
   "metadata": {},
   "source": [
    "\n",
    "This is a simple calculator built using Python in a Jupyter Notebook.\n",
    "You can perform the following operations:\n",
    "- Addition (+)\n",
    "- Subtraction (-)\n",
    "- Multiplication (*)\n",
    "- Division (/)\n",
    "- Modulus (%)\n"
   ]
  },
  {
   "cell_type": "code",
   "execution_count": null,
   "id": "1d496a7e",
   "metadata": {},
   "outputs": [],
   "source": [
    "\n",
    "def add(x, y):\n",
    "    return x + y\n",
    "\n",
    "def subtract(x, y):\n",
    "    return x - y\n",
    "\n",
    "def multiply(x, y):\n",
    "    return x * y\n",
    "\n",
    "def divide(x, y):\n",
    "    if y == 0:\n",
    "        return \"Cannot divide by zero!\"\n",
    "    return x / y\n",
    "\n",
    "def modulus(x, y):\n",
    "    return x % y\n"
   ]
  },
  {
   "cell_type": "code",
   "execution_count": null,
   "id": "d674c21f",
   "metadata": {},
   "outputs": [],
   "source": [
    "\n",
    "print(\"Select operation:\")\n",
    "print(\" + for addition\")\n",
    "print(\" - for subtraction\")\n",
    "print(\" * for multiplication\")\n",
    "print(\" / for division\")\n",
    "print(\" % for modulus\")\n",
    "\n",
    "op = input(\"Enter operation (+, -, *, /, %): \")\n",
    "x = float(input(\"Enter first number: \"))\n",
    "y = float(input(\"Enter second number: \"))\n",
    "\n",
    "if op == '+':\n",
    "    print(\"Result:\", add(x, y))\n",
    "elif op == '-':\n",
    "    print(\"Result:\", subtract(x, y))\n",
    "elif op == '*':\n",
    "    print(\"Result:\", multiply(x, y))\n",
    "elif op == '/':\n",
    "    print(\"Result:\", divide(x, y))\n",
    "elif op == '%':\n",
    "    print(\"Result:\", modulus(x, y))\n",
    "else:\n",
    "    print(\"Invalid operation\")\n"
   ]
  }
 ],
 "metadata": {
  "language_info": {
   "name": "python"
  }
 },
 "nbformat": 4,
 "nbformat_minor": 5
}
